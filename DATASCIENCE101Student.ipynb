{
  "nbformat": 4,
  "nbformat_minor": 0,
  "metadata": {
    "colab": {
      "name": "DATASCIENCE101Student.ipynb",
      "provenance": [],
      "include_colab_link": true
    },
    "kernelspec": {
      "name": "python3",
      "display_name": "Python 3"
    }
  },
  "cells": [
    {
      "cell_type": "markdown",
      "metadata": {
        "id": "view-in-github",
        "colab_type": "text"
      },
      "source": [
        "<a href=\"https://colab.research.google.com/github/vivekmallampati/webcamfilters/blob/master/DATASCIENCE101Student.ipynb\" target=\"_parent\"><img src=\"https://colab.research.google.com/assets/colab-badge.svg\" alt=\"Open In Colab\"/></a>"
      ]
    },
    {
      "cell_type": "markdown",
      "metadata": {
        "id": "BRzHkXaCh9Ra",
        "colab_type": "text"
      },
      "source": [
        "# LET US EXPLORE BASIC DATA SCIENCE WITH PYTHON\n",
        "\n",
        "## We will use Pandas package for data handling\n",
        "\n",
        "## So let us break the complete the activity into parts"
      ]
    },
    {
      "cell_type": "code",
      "metadata": {
        "id": "0T1HxcVniWTk",
        "colab_type": "code",
        "colab": {}
      },
      "source": [
        "# Imports for this article\n",
        "import pandas as pd\n",
        "%matplotlib inline\n",
        "import matplotlib.pyplot as plt\n",
        "import seaborn as sns\n",
        "sns.set_style('darkgrid')\n",
        "sns.set(font_scale=1.5)\n"
      ],
      "execution_count": 0,
      "outputs": []
    },
    {
      "cell_type": "markdown",
      "metadata": {
        "id": "Hvx4X7CGigPb",
        "colab_type": "text"
      },
      "source": [
        "Let us now read the data using panda data frame from this link :  https://raw.githubusercontent.com/LearnDataSci/article-resources/master/Essential%20Statistics/middle_tn_schools.csv"
      ]
    },
    {
      "cell_type": "code",
      "metadata": {
        "id": "C9CatLhBics4",
        "colab_type": "code",
        "colab": {}
      },
      "source": [
        "df = pd.read_csv('')\n",
        "\n",
        "df.describe()"
      ],
      "execution_count": 0,
      "outputs": []
    },
    {
      "cell_type": "markdown",
      "metadata": {
        "id": "e3_fwQreifq4",
        "colab_type": "text"
      },
      "source": [
        "Let us get two columns: *reduced_lunch* and *school_rating* and group this extrated data with **school_rating**"
      ]
    },
    {
      "cell_type": "code",
      "metadata": {
        "id": "JOCuKfh4jPtn",
        "colab_type": "code",
        "colab": {}
      },
      "source": [
        "df[['', '']].groupby(['']).describe()\n"
      ],
      "execution_count": 0,
      "outputs": []
    },
    {
      "cell_type": "markdown",
      "metadata": {
        "id": "T7MZQnqIjpQn",
        "colab_type": "text"
      },
      "source": [
        "Now we have know how to extract the columns of 'reduced_lunch' and 'school_rating'. Let us try to get the correlations between these two columns.\n",
        "\n",
        "\n",
        "**HINT** Check the documentation"
      ]
    },
    {
      "cell_type": "code",
      "metadata": {
        "id": "ylJoHzFQjsUM",
        "colab_type": "code",
        "colab": {}
      },
      "source": [
        "df[['reduced_lunch', 'school_rating']].()"
      ],
      "execution_count": 0,
      "outputs": []
    },
    {
      "cell_type": "markdown",
      "metadata": {
        "id": "GDZQZX4okubx",
        "colab_type": "text"
      },
      "source": [
        "Data visualization is very important to understand the data we are dealing with. Let us try to plot the two columns. Let us plot *reduced_lunch* on x-axis and *school_rating* on y-axis."
      ]
    },
    {
      "cell_type": "code",
      "metadata": {
        "id": "ca2dosz2lC5c",
        "colab_type": "code",
        "colab": {
          "base_uri": "https://localhost:8080/",
          "height": 178
        },
        "outputId": "0b2cc388-2bee-4309-f26c-1db2d3d7c19e"
      },
      "source": [
        "plt.figure(figsize=(14,8)) # set the size of the graph\n",
        "_ = sns.regplot(data=df, x='', y='')"
      ],
      "execution_count": 1,
      "outputs": [
        {
          "output_type": "error",
          "ename": "NameError",
          "evalue": "ignored",
          "traceback": [
            "\u001b[0;31m---------------------------------------------------------------------------\u001b[0m",
            "\u001b[0;31mNameError\u001b[0m                                 Traceback (most recent call last)",
            "\u001b[0;32m<ipython-input-1-2c76c13cd72c>\u001b[0m in \u001b[0;36m<module>\u001b[0;34m()\u001b[0m\n\u001b[0;32m----> 1\u001b[0;31m \u001b[0mplt\u001b[0m\u001b[0;34m.\u001b[0m\u001b[0mfigure\u001b[0m\u001b[0;34m(\u001b[0m\u001b[0mfigsize\u001b[0m\u001b[0;34m=\u001b[0m\u001b[0;34m(\u001b[0m\u001b[0;36m14\u001b[0m\u001b[0;34m,\u001b[0m\u001b[0;36m8\u001b[0m\u001b[0;34m)\u001b[0m\u001b[0;34m)\u001b[0m \u001b[0;31m# set the size of the graph\u001b[0m\u001b[0;34m\u001b[0m\u001b[0;34m\u001b[0m\u001b[0m\n\u001b[0m\u001b[1;32m      2\u001b[0m \u001b[0m_\u001b[0m \u001b[0;34m=\u001b[0m \u001b[0msns\u001b[0m\u001b[0;34m.\u001b[0m\u001b[0mregplot\u001b[0m\u001b[0;34m(\u001b[0m\u001b[0mdata\u001b[0m\u001b[0;34m=\u001b[0m\u001b[0mdf\u001b[0m\u001b[0;34m,\u001b[0m \u001b[0mx\u001b[0m\u001b[0;34m=\u001b[0m\u001b[0;34m''\u001b[0m\u001b[0;34m,\u001b[0m \u001b[0my\u001b[0m\u001b[0;34m=\u001b[0m\u001b[0;34m''\u001b[0m\u001b[0;34m)\u001b[0m\u001b[0;34m\u001b[0m\u001b[0;34m\u001b[0m\u001b[0m\n",
            "\u001b[0;31mNameError\u001b[0m: name 'plt' is not defined"
          ]
        }
      ]
    },
    {
      "cell_type": "code",
      "metadata": {
        "id": "0oh2787mmPS4",
        "colab_type": "code",
        "colab": {}
      },
      "source": [
        "corr = df.corr()\n",
        "_, ax = plt.subplots(figsize=(13,10)) \n",
        "\n",
        "# graph correlation matrix\n",
        "_ = sns.heatmap(corr, ax=ax,\n",
        "                xticklabels=corr.columns.values,\n",
        "                yticklabels=corr.columns.values,\n",
        "                cmap='coolwarm')"
      ],
      "execution_count": 0,
      "outputs": []
    }
  ]
}